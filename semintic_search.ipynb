{
  "nbformat": 4,
  "nbformat_minor": 0,
  "metadata": {
    "colab": {
      "provenance": []
    },
    "kernelspec": {
      "name": "python3",
      "display_name": "Python 3"
    },
    "language_info": {
      "name": "python"
    }
  },
  "cells": [
    {
      "cell_type": "code",
      "execution_count": 1,
      "metadata": {
        "id": "u0hsPR0CjpT-"
      },
      "outputs": [],
      "source": [
        "import pandas as pd\n",
        "\n"
      ]
    },
    {
      "cell_type": "code",
      "source": [
        "!pip install PyPDF2"
      ],
      "metadata": {
        "colab": {
          "base_uri": "https://localhost:8080/"
        },
        "id": "Pu05vTmykOza",
        "outputId": "56212caa-0c6d-49c5-fdab-d16c837800b1"
      },
      "execution_count": 3,
      "outputs": [
        {
          "output_type": "stream",
          "name": "stdout",
          "text": [
            "Collecting PyPDF2\n",
            "  Downloading pypdf2-3.0.1-py3-none-any.whl (232 kB)\n",
            "\u001b[?25l     \u001b[90m━━━━━━━━━━━━━━━━━━━━━━━━━━━━━━━━━━━━━━━━\u001b[0m \u001b[32m0.0/232.6 kB\u001b[0m \u001b[31m?\u001b[0m eta \u001b[36m-:--:--\u001b[0m\r\u001b[2K     \u001b[91m━━━━━━━━━━━━\u001b[0m\u001b[90m╺\u001b[0m\u001b[90m━━━━━━━━━━━━━━━━━━━━━━━━━━━\u001b[0m \u001b[32m71.7/232.6 kB\u001b[0m \u001b[31m1.9 MB/s\u001b[0m eta \u001b[36m0:00:01\u001b[0m\r\u001b[2K     \u001b[90m━━━━━━━━━━━━━━━━━━━━━━━━━━━━━━━━━━━━━━━\u001b[0m \u001b[32m232.6/232.6 kB\u001b[0m \u001b[31m3.5 MB/s\u001b[0m eta \u001b[36m0:00:00\u001b[0m\n",
            "\u001b[?25hInstalling collected packages: PyPDF2\n",
            "Successfully installed PyPDF2-3.0.1\n"
          ]
        }
      ]
    },
    {
      "cell_type": "code",
      "source": [
        "import PyPDF2\n",
        "\n",
        "def extract_text_from_pdf(pdf_file):\n",
        "    text = \"\"\n",
        "    with open(pdf_file, 'rb') as file:\n",
        "        reader = PyPDF2.PdfReader(file)\n",
        "        for page in reader.pages:\n",
        "            text += page.extract_text()\n",
        "    return text"
      ],
      "metadata": {
        "id": "I5h-LRB5kFiP"
      },
      "execution_count": 4,
      "outputs": []
    },
    {
      "cell_type": "code",
      "source": [
        "text=extract_text_from_pdf('/content/200040010-1 (1).pdf')"
      ],
      "metadata": {
        "id": "81WM89onkN1x"
      },
      "execution_count": 6,
      "outputs": []
    },
    {
      "cell_type": "code",
      "source": [
        "print(text)"
      ],
      "metadata": {
        "colab": {
          "base_uri": "https://localhost:8080/"
        },
        "id": "WZvDhs8JkbfE",
        "outputId": "c1b306b9-9995-4050-b69f-188ef8c72434"
      },
      "execution_count": 8,
      "outputs": [
        {
          "output_type": "stream",
          "name": "stdout",
          "text": [
            "Think9\n",
            "|\n",
            "Machine\n",
            "Learning\n",
            "Research\n",
            "Internship\n",
            "[Jul’23-Aug’23] \n",
            "Received\n",
            "Letter\n",
            "of\n",
            "Recommendation\n",
            "from\n",
            "the\n",
            "Founder\n",
            "for\n",
            "Exemplary\n",
            "performance\n",
            "during\n",
            "the\n",
            "Internship \n",
            "●\n",
            "Built\n",
            "a\n",
            "machine\n",
            "learning\n",
            "model\n",
            "to\n",
            "predict\n",
            "sales\n",
            "of\n",
            "the\n",
            "“Kingdom\n",
            "of\n",
            "White”\n",
            "D2C\n",
            "clothing\n",
            "brand \n",
            "●\n",
            "Collaborated\n",
            "with\n",
            "Marketing\n",
            "and\n",
            "Business\n",
            "Analytics\n",
            "Team\n",
            "to\n",
            "get\n",
            "insight\n",
            "on\n",
            "customer\n",
            "acquisition\n",
            "plane \n",
            "●\n",
            "utilized\n",
            "advanced\n",
            "techniques\n",
            "such\n",
            "as\n",
            "ARIMA,\n",
            "SARIMA,\n",
            "Prophet,\n",
            "Random\n",
            "Forest,\n",
            "Neural\n",
            "Networks,\n",
            "and \n",
            "Machine\n",
            "Learning\n",
            "Regression\n",
            "Algorithms,\n",
            "with\n",
            "Prophet\n",
            "method\n",
            "yielding\n",
            "the\n",
            "best\n",
            "results\n",
            "among\n",
            "all \n",
            "Education\n",
            "Technology\n",
            "|\n",
            "Summer\n",
            "Under graduate\n",
            "Research\n",
            "Internship\n",
            "(SURI)\n",
            "[May’23-Jul’23] \n",
            "●\n",
            "Utilized\n",
            "OpenCV\n",
            "to\n",
            "extract\n",
            "frames\n",
            "and\n",
            "applied\n",
            "VGG16\n",
            "(Transfer\n",
            "Learning)\n",
            "to\n",
            "extract\n",
            "features\n",
            "from\n",
            "video \n",
            "●\n",
            "Selected\n",
            "optimal\n",
            "number\n",
            "of\n",
            "clusters\n",
            "for\n",
            "K-means\n",
            "clustering\n",
            "of\n",
            "images\n",
            "using\n",
            "elbow\n",
            "plot\n",
            "and\n",
            "silhouette\n",
            "score \n",
            "●\n",
            "Utilized\n",
            "Late\n",
            "fusion\n",
            "technique\n",
            "and\n",
            "XGBoost\n",
            "to\n",
            "achieve\n",
            "75%\n",
            "accuracy\n",
            "in\n",
            "predicting\n",
            "assignment\n",
            "correctness\n",
            "Car\n",
            "Parking\n",
            "Space\n",
            "counter\n",
            "|\n",
            "Self\n",
            "Project\n",
            "(Apr22-July’22)\n",
            "•\n",
            "Designed\n",
            "dynamic\n",
            "UI\n",
            "with\n",
            "real-time\n",
            "occupancy\n",
            "overlays,\n",
            "empowering\n",
            "data-driven\n",
            "user\n",
            "decisions\n",
            "and \n",
            "optimizing\n",
            "parking\n",
            "allocation \n",
            "•\n",
            "Leveraged\n",
            "OpenCV's\n",
            "computer\n",
            "vision\n",
            "algorithms\n",
            "in\n",
            "synergy\n",
            "with\n",
            "the\n",
            "cvzone\n",
            "library,\n",
            "fine-tuning\n",
            "for \n",
            "heightened\n",
            "accuracy\n",
            "and\n",
            "performance \n",
            "AI\n",
            "Virtual\n",
            "Keyboard\n",
            "|\n",
            "self\n",
            "Project\n",
            "(May’23-\n",
            "July’23)\n",
            "•\n",
            "Developed\n",
            "virtual\n",
            "keyboard\n",
            "using\n",
            "OpenCV\n",
            "and\n",
            "gesture\n",
            "recognition\n",
            "for\n",
            "natural\n",
            "interaction \n",
            "•\n",
            "Combined\n",
            "camera\n",
            "input\n",
            "and\n",
            "overlays\n",
            "to\n",
            "build\n",
            "an\n",
            "intuitive\n",
            "hand-controlled\n",
            "interface \n",
            "•\n",
            "Mapped\n",
            "gestures\n",
            "to\n",
            "keys,\n",
            "optimized\n",
            "with\n",
            "Pynput\n",
            "for\n",
            "accurate\n",
            "and\n",
            "quick\n",
            "typing \n",
            "Obstacle\n",
            "Manoeuvring\n",
            "Bot\n",
            "|\n",
            "Institute\n",
            "Technical\n",
            "Council\n",
            "(Aug\n",
            "‘21\n",
            "-\n",
            "Nov\n",
            "‘21) \n",
            "Tinkerers’\n",
            "Laboratory\n",
            "IIT\n",
            "Bombay\n",
            "•\n",
            "Led\n",
            "a\n",
            "4-member\n",
            "team\n",
            "in\n",
            "designing\n",
            "a\n",
            "manually\n",
            "controlled\n",
            "Bot\n",
            "capable\n",
            "of\n",
            "executing\n",
            "obstacle\n",
            "manoeuvres \n",
            "•\n",
            "Successfully\n",
            "navigated\n",
            "the\n",
            "mobile-controlled\n",
            "bot\n",
            "through\n",
            "a\n",
            "challenging\n",
            "obstacle\n",
            "course,\n",
            "utilizing\n",
            "the \n",
            "wireless\n",
            "Bluetooth\n",
            "module\n",
            "HC-05\n",
            "for\n",
            "seamless\n",
            "control\n",
            "CORE\n",
            "TEAM\n",
            "MEMBER\n",
            "|\n",
            "DESIGN\n",
            "HEAD\n",
            "|\n",
            "AAKAAR,\n",
            "IIT\n",
            "BOMBAY\n",
            "(Jun’22\n",
            "-\n",
            "May’23) \n",
            "Annual\n",
            "Civil\n",
            "Eng\n",
            "Department\n",
            "Technical\n",
            "Festival\n",
            "|\n",
            "Budget:\n",
            "INR\n",
            "3M+\n",
            "|\n",
            "450+\n",
            "Colleges\n",
            "|\n",
            "30+\n",
            "Events\n",
            "|\n",
            "16+\n",
            "Competitions \n",
            "●\n",
            "Part\n",
            "of\n",
            "a\n",
            "16\n",
            "-\n",
            "membered\n",
            "core\n",
            "team\n",
            "with\n",
            "300+\n",
            "volunteers\n",
            "and\n",
            "conscientiously\n",
            "managing\n",
            "design-related\n",
            "affairs \n",
            "●\n",
            "Piloted\n",
            "ideation\n",
            "and\n",
            "creation\n",
            "of\n",
            "150+\n",
            "creatives,\n",
            "thus\n",
            "increasing\n",
            "the\n",
            "online\n",
            "reach\n",
            "of\n",
            "Aakaar\n",
            "handles\n",
            "to\n",
            "0.5M+ \n",
            "●\n",
            "Designed\n",
            "merchandise,\n",
            "badges,\n",
            "goodies,\n",
            "and\n",
            "gifts\n",
            "worth\n",
            "INR\n",
            "0.2M+\n",
            "to\n",
            "winners,\n",
            "volunteers\n",
            "&\n",
            "team\n",
            "members \n",
            "Creatives\n",
            "&\n",
            "Media\n",
            "Manager\n",
            "|\n",
            "Institute\n",
            "Technical\n",
            "Council\n",
            "(April’22\n",
            "-\n",
            "May‘23) \n",
            "Responsible\n",
            "for\n",
            "managing\n",
            "the\n",
            "publicity\n",
            "of\n",
            "50+\n",
            "events\n",
            "to\n",
            "promote\n",
            "Technology\n",
            "among\n",
            "students\n",
            "IIT\n",
            "Bombay \n",
            "●\n",
            "Part\n",
            "of\n",
            "27\n",
            "members\n",
            "core\n",
            "team\n",
            "responsible\n",
            "for\n",
            "conducting\n",
            "technical\n",
            "activities\n",
            "in\n",
            "the\n",
            "institute\n",
            "of\n",
            "12K+\n",
            "students \n",
            "●\n",
            "Focusing\n",
            "on\n",
            "content\n",
            "creation\n",
            "and\n",
            "exploring\n",
            "new\n",
            "areas\n",
            "for\n",
            "awareness\n",
            "campaigns\n",
            "on\n",
            "social\n",
            "media\n",
            "platforms \n",
            "●\n",
            "Ideated\n",
            "and\n",
            "executed\n",
            "comprehensive\n",
            "publicity\n",
            "drives\n",
            "of\n",
            "new\n",
            "initiative\n",
            "by\n",
            "increasing\n",
            "the\n",
            "reach\n",
            "by\n",
            "200%\n",
            "●\n",
            "Secured\n",
            "98.3\n",
            "percentile\n",
            "in\n",
            "JEE\n",
            "Advance\n",
            "Examination\n",
            "among\n",
            "over\n",
            "0.15\n",
            "million\n",
            "candidates\n",
            "(2020) \n",
            "●\n",
            "Secured\n",
            "99.96\n",
            "percentile\n",
            "in\n",
            "JEE\n",
            "Main\n",
            "Examination\n",
            "among\n",
            "over\n",
            "1\n",
            "million\n",
            "candidates\n",
            "(2020) \n",
            "●\n",
            "Recipient\n",
            "of\n",
            "National\n",
            "Talent\n",
            "Search\n",
            "Examination\n",
            "(\n",
            "NTSE\n",
            ")\n",
            "fellowship\n",
            "award\n",
            "from\n",
            "Govt.\n",
            "of\n",
            "India\n",
            "(2017)\n",
            "TECHNICAL\n",
            "●\n",
            "Languages:\n",
            "Python,\n",
            "MySQL,\n",
            "MATLAB,\n",
            "HTML,\n",
            "LATEX\n",
            "●\n",
            "Frameworks\n",
            "and\n",
            "Libraries:\n",
            "Tensorflow,\n",
            "PyTorch,\n",
            "Sk-Learn,\n",
            "Numpy,\n",
            "Pandas,\n",
            "Excel\n",
            "●\n",
            "Software\n",
            ":\n",
            "After\n",
            "Effect,\n",
            "Illustrature,\n",
            "Photoshop,\n",
            "Excel,\n",
            "Powerpoint\n",
            "Aditya\n",
            "Civil Engineering\n",
            "Indian Institute of Technology Bombay\n",
            "200040010\n",
            "B.Tech.\n",
            "Gender: Male\n",
            "DOB:  29/11/2001\n",
            "Examination\n",
            "University\n",
            "Institute\n",
            "Year\n",
            "CPI / %\n",
            "Graduation\n",
            "IIT Bombay\n",
            "IIT Bombay\n",
            "2024\n",
            "7.4\n",
            "\n"
          ]
        }
      ]
    },
    {
      "cell_type": "code",
      "source": [
        "arr=text.split('●')"
      ],
      "metadata": {
        "id": "__jPm-dckhPd"
      },
      "execution_count": 10,
      "outputs": []
    },
    {
      "cell_type": "code",
      "source": [
        "arr[0]"
      ],
      "metadata": {
        "colab": {
          "base_uri": "https://localhost:8080/",
          "height": 53
        },
        "id": "_T9y2WQ9kchM",
        "outputId": "637a831a-b867-4d1f-e441-b8f9aef69a52"
      },
      "execution_count": 11,
      "outputs": [
        {
          "output_type": "execute_result",
          "data": {
            "text/plain": [
              "'Think9\\n|\\nMachine\\nLearning\\nResearch\\nInternship\\n[Jul’23-Aug’23] \\nReceived\\nLetter\\nof\\nRecommendation\\nfrom\\nthe\\nFounder\\nfor\\nExemplary\\nperformance\\nduring\\nthe\\nInternship \\n'"
            ],
            "application/vnd.google.colaboratory.intrinsic+json": {
              "type": "string"
            }
          },
          "metadata": {},
          "execution_count": 11
        }
      ]
    },
    {
      "cell_type": "code",
      "source": [
        "!pip install -U sentence-transformers"
      ],
      "metadata": {
        "colab": {
          "base_uri": "https://localhost:8080/"
        },
        "id": "8mW9qKIykn8q",
        "outputId": "9348de27-a58d-4681-a748-078e1cf2b103"
      },
      "execution_count": 12,
      "outputs": [
        {
          "output_type": "stream",
          "name": "stdout",
          "text": [
            "Collecting sentence-transformers\n",
            "  Downloading sentence-transformers-2.2.2.tar.gz (85 kB)\n",
            "\u001b[?25l     \u001b[90m━━━━━━━━━━━━━━━━━━━━━━━━━━━━━━━━━━━━━━━━\u001b[0m \u001b[32m0.0/86.0 kB\u001b[0m \u001b[31m?\u001b[0m eta \u001b[36m-:--:--\u001b[0m\r\u001b[2K     \u001b[91m━━━━━━━━━━━━━━━━━━━━━━━━━━━━━━━━━━━━━━\u001b[0m\u001b[90m╺\u001b[0m\u001b[90m━\u001b[0m \u001b[32m81.9/86.0 kB\u001b[0m \u001b[31m2.5 MB/s\u001b[0m eta \u001b[36m0:00:01\u001b[0m\r\u001b[2K     \u001b[90m━━━━━━━━━━━━━━━━━━━━━━━━━━━━━━━━━━━━━━━━\u001b[0m \u001b[32m86.0/86.0 kB\u001b[0m \u001b[31m2.0 MB/s\u001b[0m eta \u001b[36m0:00:00\u001b[0m\n",
            "\u001b[?25h  Preparing metadata (setup.py) ... \u001b[?25l\u001b[?25hdone\n",
            "Collecting transformers<5.0.0,>=4.6.0 (from sentence-transformers)\n",
            "  Downloading transformers-4.31.0-py3-none-any.whl (7.4 MB)\n",
            "\u001b[2K     \u001b[90m━━━━━━━━━━━━━━━━━━━━━━━━━━━━━━━━━━━━━━━━\u001b[0m \u001b[32m7.4/7.4 MB\u001b[0m \u001b[31m18.1 MB/s\u001b[0m eta \u001b[36m0:00:00\u001b[0m\n",
            "\u001b[?25hRequirement already satisfied: tqdm in /usr/local/lib/python3.10/dist-packages (from sentence-transformers) (4.66.0)\n",
            "Requirement already satisfied: torch>=1.6.0 in /usr/local/lib/python3.10/dist-packages (from sentence-transformers) (2.0.1+cu118)\n",
            "Requirement already satisfied: torchvision in /usr/local/lib/python3.10/dist-packages (from sentence-transformers) (0.15.2+cu118)\n",
            "Requirement already satisfied: numpy in /usr/local/lib/python3.10/dist-packages (from sentence-transformers) (1.23.5)\n",
            "Requirement already satisfied: scikit-learn in /usr/local/lib/python3.10/dist-packages (from sentence-transformers) (1.2.2)\n",
            "Requirement already satisfied: scipy in /usr/local/lib/python3.10/dist-packages (from sentence-transformers) (1.10.1)\n",
            "Requirement already satisfied: nltk in /usr/local/lib/python3.10/dist-packages (from sentence-transformers) (3.8.1)\n",
            "Collecting sentencepiece (from sentence-transformers)\n",
            "  Downloading sentencepiece-0.1.99-cp310-cp310-manylinux_2_17_x86_64.manylinux2014_x86_64.whl (1.3 MB)\n",
            "\u001b[2K     \u001b[90m━━━━━━━━━━━━━━━━━━━━━━━━━━━━━━━━━━━━━━━━\u001b[0m \u001b[32m1.3/1.3 MB\u001b[0m \u001b[31m41.8 MB/s\u001b[0m eta \u001b[36m0:00:00\u001b[0m\n",
            "\u001b[?25hCollecting huggingface-hub>=0.4.0 (from sentence-transformers)\n",
            "  Downloading huggingface_hub-0.16.4-py3-none-any.whl (268 kB)\n",
            "\u001b[2K     \u001b[90m━━━━━━━━━━━━━━━━━━━━━━━━━━━━━━━━━━━━━━\u001b[0m \u001b[32m268.8/268.8 kB\u001b[0m \u001b[31m15.4 MB/s\u001b[0m eta \u001b[36m0:00:00\u001b[0m\n",
            "\u001b[?25hRequirement already satisfied: filelock in /usr/local/lib/python3.10/dist-packages (from huggingface-hub>=0.4.0->sentence-transformers) (3.12.2)\n",
            "Requirement already satisfied: fsspec in /usr/local/lib/python3.10/dist-packages (from huggingface-hub>=0.4.0->sentence-transformers) (2023.6.0)\n",
            "Requirement already satisfied: requests in /usr/local/lib/python3.10/dist-packages (from huggingface-hub>=0.4.0->sentence-transformers) (2.31.0)\n",
            "Requirement already satisfied: pyyaml>=5.1 in /usr/local/lib/python3.10/dist-packages (from huggingface-hub>=0.4.0->sentence-transformers) (6.0.1)\n",
            "Requirement already satisfied: typing-extensions>=3.7.4.3 in /usr/local/lib/python3.10/dist-packages (from huggingface-hub>=0.4.0->sentence-transformers) (4.7.1)\n",
            "Requirement already satisfied: packaging>=20.9 in /usr/local/lib/python3.10/dist-packages (from huggingface-hub>=0.4.0->sentence-transformers) (23.1)\n",
            "Requirement already satisfied: sympy in /usr/local/lib/python3.10/dist-packages (from torch>=1.6.0->sentence-transformers) (1.12)\n",
            "Requirement already satisfied: networkx in /usr/local/lib/python3.10/dist-packages (from torch>=1.6.0->sentence-transformers) (3.1)\n",
            "Requirement already satisfied: jinja2 in /usr/local/lib/python3.10/dist-packages (from torch>=1.6.0->sentence-transformers) (3.1.2)\n",
            "Requirement already satisfied: triton==2.0.0 in /usr/local/lib/python3.10/dist-packages (from torch>=1.6.0->sentence-transformers) (2.0.0)\n",
            "Requirement already satisfied: cmake in /usr/local/lib/python3.10/dist-packages (from triton==2.0.0->torch>=1.6.0->sentence-transformers) (3.27.1)\n",
            "Requirement already satisfied: lit in /usr/local/lib/python3.10/dist-packages (from triton==2.0.0->torch>=1.6.0->sentence-transformers) (16.0.6)\n",
            "Requirement already satisfied: regex!=2019.12.17 in /usr/local/lib/python3.10/dist-packages (from transformers<5.0.0,>=4.6.0->sentence-transformers) (2023.6.3)\n",
            "Collecting tokenizers!=0.11.3,<0.14,>=0.11.1 (from transformers<5.0.0,>=4.6.0->sentence-transformers)\n",
            "  Downloading tokenizers-0.13.3-cp310-cp310-manylinux_2_17_x86_64.manylinux2014_x86_64.whl (7.8 MB)\n",
            "\u001b[2K     \u001b[90m━━━━━━━━━━━━━━━━━━━━━━━━━━━━━━━━━━━━━━━━\u001b[0m \u001b[32m7.8/7.8 MB\u001b[0m \u001b[31m51.8 MB/s\u001b[0m eta \u001b[36m0:00:00\u001b[0m\n",
            "\u001b[?25hCollecting safetensors>=0.3.1 (from transformers<5.0.0,>=4.6.0->sentence-transformers)\n",
            "  Downloading safetensors-0.3.2-cp310-cp310-manylinux_2_17_x86_64.manylinux2014_x86_64.whl (1.3 MB)\n",
            "\u001b[2K     \u001b[90m━━━━━━━━━━━━━━━━━━━━━━━━━━━━━━━━━━━━━━━━\u001b[0m \u001b[32m1.3/1.3 MB\u001b[0m \u001b[31m67.3 MB/s\u001b[0m eta \u001b[36m0:00:00\u001b[0m\n",
            "\u001b[?25hRequirement already satisfied: click in /usr/local/lib/python3.10/dist-packages (from nltk->sentence-transformers) (8.1.6)\n",
            "Requirement already satisfied: joblib in /usr/local/lib/python3.10/dist-packages (from nltk->sentence-transformers) (1.3.2)\n",
            "Requirement already satisfied: threadpoolctl>=2.0.0 in /usr/local/lib/python3.10/dist-packages (from scikit-learn->sentence-transformers) (3.2.0)\n",
            "Requirement already satisfied: pillow!=8.3.*,>=5.3.0 in /usr/local/lib/python3.10/dist-packages (from torchvision->sentence-transformers) (9.4.0)\n",
            "Requirement already satisfied: MarkupSafe>=2.0 in /usr/local/lib/python3.10/dist-packages (from jinja2->torch>=1.6.0->sentence-transformers) (2.1.3)\n",
            "Requirement already satisfied: charset-normalizer<4,>=2 in /usr/local/lib/python3.10/dist-packages (from requests->huggingface-hub>=0.4.0->sentence-transformers) (3.2.0)\n",
            "Requirement already satisfied: idna<4,>=2.5 in /usr/local/lib/python3.10/dist-packages (from requests->huggingface-hub>=0.4.0->sentence-transformers) (3.4)\n",
            "Requirement already satisfied: urllib3<3,>=1.21.1 in /usr/local/lib/python3.10/dist-packages (from requests->huggingface-hub>=0.4.0->sentence-transformers) (2.0.4)\n",
            "Requirement already satisfied: certifi>=2017.4.17 in /usr/local/lib/python3.10/dist-packages (from requests->huggingface-hub>=0.4.0->sentence-transformers) (2023.7.22)\n",
            "Requirement already satisfied: mpmath>=0.19 in /usr/local/lib/python3.10/dist-packages (from sympy->torch>=1.6.0->sentence-transformers) (1.3.0)\n",
            "Building wheels for collected packages: sentence-transformers\n",
            "  Building wheel for sentence-transformers (setup.py) ... \u001b[?25l\u001b[?25hdone\n",
            "  Created wheel for sentence-transformers: filename=sentence_transformers-2.2.2-py3-none-any.whl size=125924 sha256=9d02e285fd9d1bf5e7cffdc2c36eda5e4a20574c9804edc0d476c73e63f8242a\n",
            "  Stored in directory: /root/.cache/pip/wheels/62/f2/10/1e606fd5f02395388f74e7462910fe851042f97238cbbd902f\n",
            "Successfully built sentence-transformers\n",
            "Installing collected packages: tokenizers, sentencepiece, safetensors, huggingface-hub, transformers, sentence-transformers\n",
            "Successfully installed huggingface-hub-0.16.4 safetensors-0.3.2 sentence-transformers-2.2.2 sentencepiece-0.1.99 tokenizers-0.13.3 transformers-4.31.0\n"
          ]
        }
      ]
    },
    {
      "cell_type": "code",
      "source": [
        "from sentence_transformers import SentenceTransformer,util\n",
        "model = SentenceTransformer('paraphrase-MiniLM-L6-v2')\n",
        "\n"
      ],
      "metadata": {
        "id": "3mCH5UTWlNXz"
      },
      "execution_count": 19,
      "outputs": []
    },
    {
      "cell_type": "code",
      "source": [
        "model.encode('apple')"
      ],
      "metadata": {
        "colab": {
          "base_uri": "https://localhost:8080/"
        },
        "id": "-xLpxAORlQJL",
        "outputId": "668fd64d-fdc9-4c14-96c9-e7994cec9639"
      },
      "execution_count": 14,
      "outputs": [
        {
          "output_type": "execute_result",
          "data": {
            "text/plain": [
              "array([ 6.41589642e-01, -2.10146800e-01,  5.88113487e-01,  4.29269262e-02,\n",
              "        3.54805678e-01,  2.07127497e-01,  2.61196822e-01, -3.17229144e-02,\n",
              "        4.58385563e-03, -9.21461657e-02,  6.01072848e-01, -4.69213963e-01,\n",
              "       -8.05742204e-01,  3.55321288e-01, -3.94557863e-01, -2.74195045e-01,\n",
              "       -3.41489911e-01, -4.07279253e-01, -2.70377785e-01,  1.67918861e-01,\n",
              "        6.07746720e-01, -4.90861893e-01, -1.70636773e-01, -3.24900419e-01,\n",
              "       -1.41822383e-01,  6.06484234e-01,  1.09012716e-01, -1.32442147e-01,\n",
              "        1.91313419e-02, -5.05031526e-01,  4.59870577e-01, -3.08082998e-01,\n",
              "        1.02057636e+00,  3.92195225e-01, -8.16718787e-02, -2.72221625e-01,\n",
              "        1.39353886e-01, -6.87885523e-01,  1.76665783e-02, -9.50143635e-02,\n",
              "        4.94362265e-02,  5.11186242e-01, -3.48881632e-01,  4.13915724e-01,\n",
              "        5.01203358e-01,  5.76039851e-01,  2.48004809e-01, -7.49632657e-01,\n",
              "        2.40350842e-01, -1.06810428e-01,  9.44852829e-02,  1.98306575e-01,\n",
              "        8.25102150e-01, -5.63705742e-01, -3.32634538e-01,  6.33919537e-01,\n",
              "        3.37346315e-01,  4.99847323e-01,  5.75453162e-01, -1.23137884e-01,\n",
              "        5.34497917e-01, -9.39215004e-01, -3.74058008e-01,  1.28341004e-01,\n",
              "        9.09112632e-01, -1.81540158e-02, -9.97581959e-01, -4.19933051e-01,\n",
              "       -1.21171999e+00, -5.37165165e-01,  3.07956576e-01,  2.51163095e-01,\n",
              "        6.54353321e-01,  5.99416673e-01,  1.95264503e-01,  2.74132848e-01,\n",
              "       -3.74112725e-02, -4.93649930e-01, -5.95388114e-01,  5.56730688e-01,\n",
              "       -1.16576540e+00, -2.80560374e-01, -9.05172527e-01,  5.16496122e-01,\n",
              "        7.37316683e-02,  1.95828855e-01, -7.74238884e-01, -4.71783161e-01,\n",
              "       -7.55730450e-01, -4.16023508e-02, -1.57688633e-01,  3.05349026e-02,\n",
              "        6.21425629e-01,  9.38187465e-02,  4.26291704e-01, -3.07225913e-01,\n",
              "        9.70038176e-02, -8.84588540e-01, -3.46956164e-01,  1.47808170e+00,\n",
              "        3.28480333e-01,  5.06768048e-01, -1.58013985e-01, -3.87056589e-01,\n",
              "       -2.54139811e-01, -7.72201061e-01, -2.90192310e-02, -2.56787449e-01,\n",
              "        1.61892757e-01,  2.37484142e-01,  4.42253143e-01, -6.42094851e-01,\n",
              "       -1.04079030e-01,  2.73069412e-01, -3.65085721e-01, -1.11801527e-01,\n",
              "       -1.02222763e-01,  1.50999397e-01,  1.22634661e+00, -2.76365727e-01,\n",
              "        5.47993481e-01, -5.40806532e-01,  2.12807000e-01, -3.34852785e-02,\n",
              "       -6.28599703e-01, -6.63881838e-01, -1.77551117e-02,  1.70298442e-01,\n",
              "       -9.73975420e-01,  2.58034408e-01, -2.91621476e-01, -7.83673465e-01,\n",
              "        6.67479336e-01, -3.74760598e-01, -3.76543045e-01,  4.44782883e-01,\n",
              "        9.39824581e-02, -1.03512013e+00, -2.41953060e-01, -7.40105584e-02,\n",
              "       -2.27369294e-01, -1.45234866e-02,  2.04278186e-01, -1.34902135e-01,\n",
              "       -3.19757730e-01, -2.19282702e-01,  6.30899286e-03,  1.46567062e-01,\n",
              "        5.91705859e-01, -6.21987760e-01, -1.39010012e-01, -3.02059889e-01,\n",
              "        6.81351364e-01, -3.55829567e-01,  4.85648543e-01, -6.88480318e-01,\n",
              "        7.67233193e-01, -1.78466842e-01,  6.07588142e-02,  3.69348645e-01,\n",
              "       -4.01257604e-01, -1.53898203e-03,  2.09110007e-01,  4.08353247e-02,\n",
              "       -2.92947441e-01, -6.22480996e-02,  6.37971461e-01, -8.18513557e-02,\n",
              "        1.19148105e-01,  3.75965476e-01,  7.90604055e-01, -3.89940262e-01,\n",
              "        2.56867975e-01,  4.78001028e-01, -5.91790736e-01,  1.04447631e-02,\n",
              "        4.00483400e-01, -3.16836834e-01, -1.54585436e-01, -1.62245005e-01,\n",
              "        3.25980425e-01, -6.04638636e-01,  1.32709175e-01,  8.28606635e-03,\n",
              "       -6.98069707e-05,  1.15467876e-01,  3.35162431e-02,  6.85953856e-01,\n",
              "       -2.58023769e-01,  5.44217288e-01,  3.38250011e-01,  9.95453179e-01,\n",
              "       -1.02933633e+00,  9.37214792e-01, -5.94394244e-02, -1.37699068e-01,\n",
              "       -3.71039778e-01,  4.69158202e-01, -8.56646717e-01,  1.45235062e-02,\n",
              "        9.13776383e-02,  1.66961297e-01, -6.15161598e-01, -5.94463110e-01,\n",
              "       -8.89386907e-02, -5.86930335e-01, -5.47564030e-01,  3.28168958e-01,\n",
              "       -1.16904162e-01,  6.38899878e-02, -7.74281099e-02, -2.92235523e-01,\n",
              "       -2.24263236e-01,  6.23021424e-02, -3.76049764e-02, -3.03966135e-01,\n",
              "        3.05419207e-01,  4.99247164e-01, -1.01298792e-02, -5.03539145e-01,\n",
              "       -5.07789671e-01, -3.43424350e-01, -5.82184374e-01, -2.75584966e-01,\n",
              "        1.38812229e-01, -1.21848619e+00,  2.87335664e-01,  2.59234812e-02,\n",
              "       -2.25709472e-02,  1.69733405e-01,  4.89430241e-02,  7.02593982e-01,\n",
              "        1.71343982e-02, -2.06511781e-01,  9.49872509e-02, -1.52408317e-01,\n",
              "       -3.40122700e-01, -2.07190350e-01, -1.72223166e-01,  7.90950775e-01,\n",
              "       -1.66404054e-01,  8.19173574e-01,  4.14764047e-01, -3.17486167e-01,\n",
              "       -1.76845089e-01, -6.94824085e-02,  1.20676786e-01, -7.36459196e-02,\n",
              "       -5.74133396e-02,  9.31070372e-02, -3.01129911e-02,  8.41873109e-01,\n",
              "        2.88380444e-01, -6.41756237e-01,  5.41431345e-02, -7.11399078e-01,\n",
              "       -8.23426396e-02,  1.26711443e-01, -1.29576802e-01,  5.25724530e-01,\n",
              "        8.81334841e-02, -1.03693688e+00,  4.82455492e-01,  3.84346932e-01,\n",
              "        3.26615304e-01, -7.86806177e-03, -4.82044309e-01,  1.06196630e+00,\n",
              "        5.45192659e-01,  1.49790958e-01, -1.73586622e-01,  5.75824492e-02,\n",
              "        1.88102379e-01, -2.82653183e-01,  2.33933702e-01,  1.14005454e-01,\n",
              "        1.37903214e-01, -8.07427406e-01, -2.85393804e-01,  3.67059976e-01,\n",
              "        2.61678576e-01, -2.42119923e-01, -3.17751050e-01, -3.59441370e-01,\n",
              "        3.76501568e-02, -3.10060889e-01,  6.49853051e-01, -1.56731740e-01,\n",
              "       -7.34133184e-01, -4.04623777e-01, -1.04520945e-02,  8.46105635e-01,\n",
              "       -6.31195426e-01,  1.03376664e-01, -2.30286703e-01,  6.62649810e-01,\n",
              "       -8.83118510e-02, -2.09556699e-01, -7.13237464e-01,  4.74820286e-01,\n",
              "        3.47989589e-01,  1.82720855e-01, -5.44078708e-01, -5.44084609e-01,\n",
              "        2.95111295e-02,  2.21926317e-01, -7.99629092e-02, -2.07630828e-01,\n",
              "        3.38211149e-01,  4.48487133e-01,  1.18578225e-01,  9.37953219e-02,\n",
              "       -9.63395461e-02, -5.18448353e-02, -1.35031417e-01,  1.00776158e-01,\n",
              "        3.33970785e-01,  4.42102283e-01,  1.24574490e-01, -2.91508645e-01,\n",
              "        9.25448909e-02, -2.06681803e-01,  3.60600978e-01,  6.80624425e-01,\n",
              "        4.38129872e-01, -1.33072101e-02, -2.16264054e-01,  5.47220528e-01,\n",
              "        1.03475235e-01, -6.58603966e-01, -2.34196499e-01,  2.92027146e-01,\n",
              "       -7.74291217e-01,  8.55570555e-01,  2.98078299e-01,  4.24921274e-01,\n",
              "       -5.55253506e-01,  4.29754645e-01,  4.30643559e-05,  4.63610500e-01,\n",
              "        6.40955046e-02,  2.11706996e-01, -3.12348276e-01,  1.62766978e-01,\n",
              "        2.66611248e-01,  6.01758473e-02,  6.16835654e-01, -2.01144457e-01,\n",
              "        2.21421584e-01,  5.34994714e-02, -2.07366273e-01,  3.80708486e-01,\n",
              "        1.99858233e-01, -1.62015498e-01,  7.45214298e-02, -1.67664483e-01,\n",
              "       -3.10986280e-01, -3.02673191e-01, -1.08714402e-01, -3.88646722e-01,\n",
              "        1.79675177e-01, -1.45418644e-01, -4.04039830e-01,  2.66823322e-01,\n",
              "       -3.13818306e-01,  4.90718842e-01, -3.96885514e-01,  1.11909509e-01,\n",
              "       -2.26302549e-01,  2.82168835e-01, -2.64756292e-01, -1.23305678e-01,\n",
              "        5.36848724e-01,  1.27037317e-01, -1.02055736e-01, -1.94927752e-01,\n",
              "       -7.11323321e-02, -9.76139084e-02,  1.01980843e-01,  8.94954681e-01,\n",
              "        1.39940917e+00, -4.04709816e-01,  9.91793215e-01,  7.65312850e-01],\n",
              "      dtype=float32)"
            ]
          },
          "metadata": {},
          "execution_count": 14
        }
      ]
    },
    {
      "cell_type": "code",
      "source": [
        "!pip install -q utils"
      ],
      "metadata": {
        "id": "lSe9bK7TlZpa"
      },
      "execution_count": 15,
      "outputs": []
    },
    {
      "cell_type": "code",
      "source": [
        "from sklearn.metrics.pairwise import cosine_similarity"
      ],
      "metadata": {
        "id": "g3zPFFqClR7D"
      },
      "execution_count": 16,
      "outputs": []
    },
    {
      "cell_type": "code",
      "source": [
        "cosine_similarity(model.encode('apple').reshape(-1,1),model.encode('pineapple').reshape(-1,1))"
      ],
      "metadata": {
        "colab": {
          "base_uri": "https://localhost:8080/"
        },
        "id": "HHf8JDr6l14H",
        "outputId": "0d8c56eb-cc3c-4f3d-9fe6-81c18d52da72"
      },
      "execution_count": 18,
      "outputs": [
        {
          "output_type": "execute_result",
          "data": {
            "text/plain": [
              "array([[-1., -1., -1., ..., -1.,  1.,  1.],\n",
              "       [ 1.,  1.,  1., ...,  1., -1., -1.],\n",
              "       [-1., -1., -1., ..., -1.,  1.,  1.],\n",
              "       ...,\n",
              "       [ 1.,  1.,  1., ...,  1., -1., -1.],\n",
              "       [-1., -1., -1., ..., -1.,  1.,  1.],\n",
              "       [-1., -1., -1., ..., -1.,  1.,  1.]], dtype=float32)"
            ]
          },
          "metadata": {},
          "execution_count": 18
        }
      ]
    },
    {
      "cell_type": "code",
      "source": [
        "util.cos_sim(model.encode('apple'),model.encode('mango'))"
      ],
      "metadata": {
        "colab": {
          "base_uri": "https://localhost:8080/"
        },
        "id": "xrc7XbZ_mE3F",
        "outputId": "cc068190-8f85-41ff-e7ca-7b1d23d43f76"
      },
      "execution_count": 20,
      "outputs": [
        {
          "output_type": "execute_result",
          "data": {
            "text/plain": [
              "tensor([[0.4787]])"
            ]
          },
          "metadata": {},
          "execution_count": 20
        }
      ]
    },
    {
      "cell_type": "code",
      "source": [
        "util.cos_sim(model.encode('I am good boy '),model.encode('I am not good boy'))"
      ],
      "metadata": {
        "colab": {
          "base_uri": "https://localhost:8080/"
        },
        "id": "_XmyyTLJnBWo",
        "outputId": "4429b3d0-2682-41b4-809a-265539b829aa"
      },
      "execution_count": 27,
      "outputs": [
        {
          "output_type": "execute_result",
          "data": {
            "text/plain": [
              "tensor([[0.7417]])"
            ]
          },
          "metadata": {},
          "execution_count": 27
        }
      ]
    },
    {
      "cell_type": "code",
      "source": [
        "cos=[util.cos_sim(model.encode('what is think9'),i) for i in list(map(model.encode,arr))]"
      ],
      "metadata": {
        "id": "1k9DlyzsnJHL"
      },
      "execution_count": 32,
      "outputs": []
    },
    {
      "cell_type": "code",
      "source": [
        "import numpy as np"
      ],
      "metadata": {
        "id": "gbUCJbwFn_nm"
      },
      "execution_count": 33,
      "outputs": []
    },
    {
      "cell_type": "code",
      "source": [
        "cos=[i.item() for i in cos]"
      ],
      "metadata": {
        "id": "vQzlDb5PoFro"
      },
      "execution_count": 38,
      "outputs": []
    },
    {
      "cell_type": "code",
      "source": [
        "cos[0].item()"
      ],
      "metadata": {
        "colab": {
          "base_uri": "https://localhost:8080/"
        },
        "id": "lEVlJ7uLoNFK",
        "outputId": "88fa27b3-5b0e-45c7-a613-4296868beea5"
      },
      "execution_count": 37,
      "outputs": [
        {
          "output_type": "execute_result",
          "data": {
            "text/plain": [
              "0.2991943359375"
            ]
          },
          "metadata": {},
          "execution_count": 37
        }
      ]
    },
    {
      "cell_type": "code",
      "source": [
        "max(cos)"
      ],
      "metadata": {
        "colab": {
          "base_uri": "https://localhost:8080/"
        },
        "id": "6bEWjcnhoQgn",
        "outputId": "98af2b7d-e483-483b-ced2-57139ab7c285"
      },
      "execution_count": 40,
      "outputs": [
        {
          "output_type": "execute_result",
          "data": {
            "text/plain": [
              "0.2991943359375"
            ]
          },
          "metadata": {},
          "execution_count": 40
        }
      ]
    },
    {
      "cell_type": "code",
      "source": [
        "cos.index(max(cos))"
      ],
      "metadata": {
        "colab": {
          "base_uri": "https://localhost:8080/"
        },
        "id": "1qBA_6--oYyl",
        "outputId": "fc502820-8780-4635-aec9-5aa2619d81a1"
      },
      "execution_count": 41,
      "outputs": [
        {
          "output_type": "execute_result",
          "data": {
            "text/plain": [
              "0"
            ]
          },
          "metadata": {},
          "execution_count": 41
        }
      ]
    },
    {
      "cell_type": "code",
      "source": [
        "def sementic_chunk(query):\n",
        "  cos=[util.cos_sim(model.encode(query),i) for i in list(map(model.encode,arr))]\n",
        "  cos=[i.item() for i in cos]\n",
        "  return arr[cos.index(max(cos))]"
      ],
      "metadata": {
        "id": "WZhbAmT_oi3a"
      },
      "execution_count": 44,
      "outputs": []
    },
    {
      "cell_type": "code",
      "source": [
        "print(sementic_chunk('what is machine learning'))"
      ],
      "metadata": {
        "colab": {
          "base_uri": "https://localhost:8080/"
        },
        "id": "aGK9oLyuo15j",
        "outputId": "4cd2c799-0ae7-4bd7-c2b8-abaf8e424aa1"
      },
      "execution_count": 46,
      "outputs": [
        {
          "output_type": "stream",
          "name": "stdout",
          "text": [
            "\n",
            "utilized\n",
            "advanced\n",
            "techniques\n",
            "such\n",
            "as\n",
            "ARIMA,\n",
            "SARIMA,\n",
            "Prophet,\n",
            "Random\n",
            "Forest,\n",
            "Neural\n",
            "Networks,\n",
            "and \n",
            "Machine\n",
            "Learning\n",
            "Regression\n",
            "Algorithms,\n",
            "with\n",
            "Prophet\n",
            "method\n",
            "yielding\n",
            "the\n",
            "best\n",
            "results\n",
            "among\n",
            "all \n",
            "Education\n",
            "Technology\n",
            "|\n",
            "Summer\n",
            "Under graduate\n",
            "Research\n",
            "Internship\n",
            "(SURI)\n",
            "[May’23-Jul’23] \n",
            "\n"
          ]
        }
      ]
    },
    {
      "cell_type": "code",
      "source": [],
      "metadata": {
        "id": "lVG9O-1Ho6NH"
      },
      "execution_count": null,
      "outputs": []
    }
  ]
}